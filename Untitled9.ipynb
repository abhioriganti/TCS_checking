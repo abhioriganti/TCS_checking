{
  "nbformat": 4,
  "nbformat_minor": 0,
  "metadata": {
    "colab": {
      "provenance": [],
      "authorship_tag": "ABX9TyPG+QrECGfUpwdInP+i73jC",
      "include_colab_link": true
    },
    "kernelspec": {
      "name": "python3",
      "display_name": "Python 3"
    },
    "language_info": {
      "name": "python"
    }
  },
  "cells": [
    {
      "cell_type": "markdown",
      "metadata": {
        "id": "view-in-github",
        "colab_type": "text"
      },
      "source": [
        "<a href=\"https://colab.research.google.com/github/abhioriganti/TCS_checking/blob/eda-check/Untitled9.ipynb\" target=\"_parent\"><img src=\"https://colab.research.google.com/assets/colab-badge.svg\" alt=\"Open In Colab\"/></a>"
      ]
    },
    {
      "cell_type": "code",
      "execution_count": null,
      "metadata": {
        "colab": {
          "base_uri": "https://localhost:8080/"
        },
        "id": "jzoCcOjEly-7",
        "outputId": "d63a238e-c7d7-4d12-af77-21a789dc46c4"
      },
      "outputs": [
        {
          "output_type": "stream",
          "name": "stdout",
          "text": [
            "Abhi\n"
          ]
        }
      ],
      "source": [
        "print(\"Abhi\")"
      ]
    },
    {
      "cell_type": "code",
      "source": [
        "print(\"testing\")"
      ],
      "metadata": {
        "id": "26mD7iHFl1pu",
        "colab": {
          "base_uri": "https://localhost:8080/"
        },
        "outputId": "4ba13593-6719-4f3a-f269-bc6a6da44bfe"
      },
      "execution_count": null,
      "outputs": [
        {
          "output_type": "stream",
          "name": "stdout",
          "text": [
            "testing\n"
          ]
        }
      ]
    },
    {
      "cell_type": "code",
      "source": [
        "print(\"task-3\")"
      ],
      "metadata": {
        "id": "fwNaQ62cpHn5",
        "outputId": "102e1a7c-3732-4973-9525-ae31fe698f4d",
        "colab": {
          "base_uri": "https://localhost:8080/"
        }
      },
      "execution_count": 2,
      "outputs": [
        {
          "output_type": "stream",
          "name": "stdout",
          "text": [
            "task-3\n"
          ]
        }
      ]
    },
    {
      "cell_type": "code",
      "source": [],
      "metadata": {
        "id": "xXYi4wTvqy1O"
      },
      "execution_count": null,
      "outputs": []
    }
  ]
}