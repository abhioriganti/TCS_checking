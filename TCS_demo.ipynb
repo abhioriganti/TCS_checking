{
  "nbformat": 4,
  "nbformat_minor": 0,
  "metadata": {
    "colab": {
      "provenance": [],
      "authorship_tag": "ABX9TyOfGGK5CzGX55kpBUufgUcv",
      "include_colab_link": true
    },
    "kernelspec": {
      "name": "python3",
      "display_name": "Python 3"
    },
    "language_info": {
      "name": "python"
    }
  },
  "cells": [
    {
      "cell_type": "markdown",
      "metadata": {
        "id": "view-in-github",
        "colab_type": "text"
      },
      "source": [
        "<a href=\"https://colab.research.google.com/github/abhioriganti/TCS_checking/blob/eda-check/TCS_demo.ipynb\" target=\"_parent\"><img src=\"https://colab.research.google.com/assets/colab-badge.svg\" alt=\"Open In Colab\"/></a>"
      ]
    },
    {
      "cell_type": "code",
      "execution_count": null,
      "metadata": {
        "id": "4rZxdz6ZEvYI"
      },
      "outputs": [],
      "source": [
        "print(\"Hello woreld\")"
      ]
    },
    {
      "cell_type": "code",
      "source": [
        "print(\"How are you\")"
      ],
      "metadata": {
        "id": "pHou2u0LFU6Y"
      },
      "execution_count": null,
      "outputs": []
    }
  ]
}